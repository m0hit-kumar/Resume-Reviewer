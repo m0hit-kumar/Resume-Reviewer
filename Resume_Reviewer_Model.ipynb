{
  "nbformat": 4,
  "nbformat_minor": 0,
  "metadata": {
    "colab": {
      "name": "Resume_Reviewer_Model.ipynb",
      "provenance": []
    },
    "kernelspec": {
      "name": "python3",
      "display_name": "Python 3"
    },
    "language_info": {
      "name": "python"
    }
  },
  "cells": [
    {
      "cell_type": "code",
      "execution_count": 4,
      "metadata": {
        "id": "VPCVMGkyUzop",
        "colab": {
          "base_uri": "https://localhost:8080/"
        },
        "outputId": "2bdfc733-627c-4b21-d50c-8f6390027862"
      },
      "outputs": [
        {
          "output_type": "stream",
          "name": "stdout",
          "text": [
            "Archive:  ResumeDataSet/UpdatedResumeDataSet.csv.zip\n",
            "replace UpdatedResumeDataSet.csv? [y]es, [n]o, [A]ll, [N]one, [r]ename: n\n"
          ]
        }
      ],
      "source": [
        "!unzip ResumeDataSet/UpdatedResumeDataSet.csv.zip"
      ]
    },
    {
      "cell_type": "code",
      "source": [
        "import pandas as pd\n"
      ],
      "metadata": {
        "id": "CXsN5TDUYQ34"
      },
      "execution_count": 6,
      "outputs": []
    },
    {
      "cell_type": "code",
      "source": [
        "!ls"
      ],
      "metadata": {
        "colab": {
          "base_uri": "https://localhost:8080/"
        },
        "id": "rnXUB0HgZCtF",
        "outputId": "74af794f-dfac-492b-93f6-3bf1442134eb"
      },
      "execution_count": 7,
      "outputs": [
        {
          "output_type": "stream",
          "name": "stdout",
          "text": [
            "ResumeDataSet  sample_data  UpdatedResumeDataSet.csv\n"
          ]
        }
      ]
    },
    {
      "cell_type": "code",
      "source": [
        "data=pd.read_csv(\"/content/UpdatedResumeDataSet.csv\")\n",
        "data"
      ],
      "metadata": {
        "id": "LeXjxXO1ZHO8"
      },
      "execution_count": null,
      "outputs": []
    },
    {
      "cell_type": "code",
      "source": [
        "type(data)"
      ],
      "metadata": {
        "id": "GeAxe0A4af8z",
        "outputId": "74144199-9d47-47d0-df8c-653e223aeeac",
        "colab": {
          "base_uri": "https://localhost:8080/"
        }
      },
      "execution_count": 11,
      "outputs": [
        {
          "output_type": "execute_result",
          "data": {
            "text/plain": [
              "pandas.core.frame.DataFrame"
            ]
          },
          "metadata": {},
          "execution_count": 11
        }
      ]
    },
    {
      "cell_type": "code",
      "source": [
        ""
      ],
      "metadata": {
        "id": "SHxvGN6cbPj-"
      },
      "execution_count": null,
      "outputs": []
    }
  ]
}